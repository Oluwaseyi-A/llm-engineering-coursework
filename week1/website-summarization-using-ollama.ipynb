{
 "cells": [
  {
   "cell_type": "markdown",
   "id": "a68b1042-558a-4051-85e2-9ffd7a31a871",
   "metadata": {},
   "source": [
    "# Website Summarization Using llama\n",
    "### Week 1 Day 2 Exercise"
   ]
  },
  {
   "cell_type": "code",
   "execution_count": 2,
   "id": "176fcb2f-9ac7-460b-9fad-415e89c4920e",
   "metadata": {},
   "outputs": [],
   "source": [
    "import os\n",
    "import requests\n",
    "from dotenv import load_dotenv\n",
    "from bs4 import BeautifulSoup\n",
    "from IPython.display import Markdown, display\n",
    "from openai import OpenAI"
   ]
  },
  {
   "cell_type": "code",
   "execution_count": 3,
   "id": "b9c63761-c904-491b-92c7-e41eb319c3e4",
   "metadata": {},
   "outputs": [],
   "source": [
    "# Constants\n",
    "\n",
    "# OLLAMA_API = \"http://localhost:11434/api/chat\"\n",
    "# HEADERS = {\"Content-Type\": \"application/json\"}\n",
    "MODEL = \"llama3.2\""
   ]
  },
  {
   "cell_type": "code",
   "execution_count": 4,
   "id": "afe29712-751c-4322-a4c6-aed01e6acf26",
   "metadata": {},
   "outputs": [],
   "source": [
    "headers = {\n",
    " \"User-Agent\": \"Mozilla/5.0 (Windows NT 10.0; Win64; x64) AppleWebKit/537.36 (KHTML, like Gecko) Chrome/117.0.0.0 Safari/537.36\"\n",
    "}\n",
    "\n",
    "class Website:\n",
    "\n",
    "    def __init__(self, url):\n",
    "        \"\"\"\n",
    "        Create this Website object from the given url using the BeautifulSoup library\n",
    "        \"\"\"\n",
    "        self.url = url\n",
    "        response = requests.get(url, headers=headers)\n",
    "        soup = BeautifulSoup(response.content, 'html.parser')\n",
    "        self.title = soup.title.string if soup.title else \"No title found\"\n",
    "        for irrelevant in soup.body([\"script\", \"style\", \"img\", \"input\"]):\n",
    "            irrelevant.decompose()\n",
    "        self.text = soup.body.get_text(separator=\"\\n\", strip=True)"
   ]
  },
  {
   "cell_type": "code",
   "execution_count": 5,
   "id": "be3eeb3f-aec5-4ef8-9427-3b80b2dce919",
   "metadata": {},
   "outputs": [],
   "source": [
    "system_prompt = \"You are an assistant that analyzes the contents of a website \\\n",
    "and provides a short summary, ignoring text that might be navigation related. \\\n",
    "Respond in markdown.\"\n",
    "\n",
    "\n",
    "def user_prompt_for(website):\n",
    "    user_prompt = f\"You are looking at a website titled {website.title}\"\n",
    "    user_prompt += \"\\nThe contents of this website is as follows; \\\n",
    "please provide a short summary of this website in markdown. \\\n",
    "If it includes news or announcements, then summarize these too.\\n\\n\"\n",
    "    user_prompt += website.text\n",
    "    return user_prompt\n",
    "    \n",
    "\n",
    "def messages_for(website):\n",
    "    return [\n",
    "        {\"role\": \"system\", \"content\": system_prompt},\n",
    "        {\"role\": \"user\", \"content\": user_prompt_for(website)}\n",
    "    ]\n",
    "\n",
    "ollama_via_openai = OpenAI(base_url='http://localhost:11434/v1', api_key='ollama')\n",
    "\n",
    "def summarize(url):\n",
    "    website = Website(url)\n",
    "    response = ollama_via_openai.chat.completions.create(\n",
    "        model = MODEL,\n",
    "        messages = messages_for(website)\n",
    "    )\n",
    "    return response.choices[0].message.content\n",
    "\n",
    "\n",
    "def display_summary(url):\n",
    "    summary = summarize(url)\n",
    "    display(Markdown(summary))"
   ]
  },
  {
   "cell_type": "code",
   "execution_count": 6,
   "id": "a78b587d-3a75-45a8-9ac5-f78dcddfa822",
   "metadata": {},
   "outputs": [
    {
     "data": {
      "text/markdown": [
       "The provided text appears to be a snippet of the CNN website, containing various news articles and other content. To provide a more detailed answer, I'll focus on identifying the main sections or categories present in the text.\n",
       "\n",
       "1. **News**: The main section is dedicated to providing breaking news updates from around the world, covering topics such as:\n",
       "\t* Politics\n",
       "\t* World Affairs (Middle East conflict, Israel-Hamas War, Ukraine-Russia War)\n",
       "\t* Business and Economics (Ford investment, Trump Administration agenda law)\n",
       "\t* Crime and Justice (Gunman in CDC shooting, 2.4 million people lose food stamps due to Trump agenda law)\n",
       "2. **Entertainment**:\n",
       "\t* Movies (Theatrical releases or upcoming movies like \"Weapons\")\n",
       "\t* Television (Shows A-Z, Sports programming schedule)\n",
       "3. **Technology**:\n",
       "\t* Tech (Ford announces $5 billion US investment as part of its 'next Model T moment')\n",
       "4. **Life & Culture**:\n",
       "\t* Arts and Design\n",
       "\t* Fashion\n",
       "\t* Beauty\n",
       "\t* Health and Fitness\n",
       "\t* Home and Reviews (Deals, Gifts)\n",
       "\t* Travel (Outdoors, Pets, Destinations, Food & Drink)\n",
       "5. **Sports**:\n",
       "\t* Pro Football\n",
       "\t* College Football\n",
       "\t* Basketball\n",
       "\t* Baseball\n",
       "6. **Science and Discovery**:\n",
       "\t* Space\n",
       "\t* Climate\n",
       "\t* Solutions\n",
       "\n",
       "Please note that this categorization is based on the content present in the provided snippet, which may not reflect an exhaustive list of topics or categories available on the CNN website."
      ],
      "text/plain": [
       "<IPython.core.display.Markdown object>"
      ]
     },
     "metadata": {},
     "output_type": "display_data"
    }
   ],
   "source": [
    "display_summary(\"https://cnn.com\")"
   ]
  }
 ],
 "metadata": {
  "kernelspec": {
   "display_name": "Python 3 (ipykernel)",
   "language": "python",
   "name": "python3"
  },
  "language_info": {
   "codemirror_mode": {
    "name": "ipython",
    "version": 3
   },
   "file_extension": ".py",
   "mimetype": "text/x-python",
   "name": "python",
   "nbconvert_exporter": "python",
   "pygments_lexer": "ipython3",
   "version": "3.11.13"
  }
 },
 "nbformat": 4,
 "nbformat_minor": 5
}
