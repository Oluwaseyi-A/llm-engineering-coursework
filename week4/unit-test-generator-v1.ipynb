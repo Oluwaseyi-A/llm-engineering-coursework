{
 "cells": [
  {
   "cell_type": "markdown",
   "id": "f130527f-ed6d-47fb-8480-ea3bbfcc0307",
   "metadata": {},
   "source": [
    "# Unit Test Generator\n",
    "\n",
    "The requirement: use a Frontier model to generate fast and repeatable unit tests for Python code.\n"
   ]
  },
  {
   "cell_type": "code",
   "execution_count": null,
   "id": "9b17c305-fbc2-4e32-bec4-041467d6402d",
   "metadata": {},
   "outputs": [],
   "source": [
    "# imports\n",
    "\n",
    "import os\n",
    "import io\n",
    "import sys\n",
    "from dotenv import load_dotenv\n",
    "from openai import OpenAI\n",
    "import google.generativeai\n",
    "import anthropic\n",
    "from IPython.display import Markdown, display, update_display\n",
    "import gradio as gr\n",
    "import subprocess"
   ]
  },
  {
   "cell_type": "code",
   "execution_count": null,
   "id": "b30edb93-b846-4564-8d4f-1ed8f8dec818",
   "metadata": {},
   "outputs": [],
   "source": [
    "# environment\n",
    "\n",
    "load_dotenv(override=True)\n",
    "os.environ['OPENAI_API_KEY'] = os.getenv('OPENAI_API_KEY', 'your-key-if-not-using-env')\n",
    "os.environ['ANTHROPIC_API_KEY'] = os.getenv('ANTHROPIC_API_KEY', 'your-key-if-not-using-env')"
   ]
  },
  {
   "cell_type": "code",
   "execution_count": null,
   "id": "5d8339be-3464-4938-86b5-3e23e5506252",
   "metadata": {},
   "outputs": [],
   "source": [
    "openai = OpenAI()\n",
    "claude = anthropic.Anthropic()\n",
    "OPENAI_MODEL = \"gpt-4o\"\n",
    "CLAUDE_MODEL = \"claude-3-7-sonnet-20250219\""
   ]
  },
  {
   "cell_type": "code",
   "execution_count": null,
   "id": "52dc3c53-964e-4df9-ac0e-9ca03e742a66",
   "metadata": {},
   "outputs": [],
   "source": [
    "system_message = \"You are an assistant that implements unit testing for Python code. \"\n",
    "system_message += \"Respond only with Python code; use comments sparingly and do not provide any explanation other than occasional comments. \""
   ]
  },
  {
   "cell_type": "code",
   "execution_count": null,
   "id": "7bb3b090-6aa4-4ecd-bc30-9061cce632d4",
   "metadata": {},
   "outputs": [],
   "source": [
    "def user_prompt_for(python_file):\n",
    "    # Read the Python source file\n",
    "    with open(python_file, \"r\", encoding=\"utf-8\") as f:\n",
    "        python_code = f.read()\n",
    "\n",
    "    # Build the user prompt\n",
    "    user_prompt = \"Write unit tests for this Python code. \"\n",
    "    user_prompt += \"Respond only with Python code; do not explain your work other than a few comments. \"\n",
    "    user_prompt += \"The unit testsing is done in Jupyterlab, so you should use packages that play nicely with the Jupyter kernel.\"\n",
    "    user_prompt += \"Include the original Python code in your generated output so that I can run all in one fell swoop.\\n\\n\"\n",
    "    user_prompt += python_code\n",
    "    \n",
    "    return user_prompt"
   ]
  },
  {
   "cell_type": "code",
   "execution_count": null,
   "id": "7d7786b1-6eea-47e1-955d-1dc9e7f1db91",
   "metadata": {},
   "outputs": [],
   "source": [
    "def messages_for(python_file):\n",
    "    return [\n",
    "        {\"role\": \"system\", \"content\": system_message},\n",
    "        {\"role\": \"user\", \"content\": user_prompt_for(python_file)}\n",
    "    ]"
   ]
  },
  {
   "cell_type": "code",
   "execution_count": null,
   "id": "f0f749be-9562-4ce1-973b-ed593f996f1e",
   "metadata": {},
   "outputs": [],
   "source": [
    "def stream_gpt(python_file):    \n",
    "    stream = openai.chat.completions.create(model=OPENAI_MODEL, messages=messages_for(python_file), stream=True)\n",
    "    reply = \"\"\n",
    "    for chunk in stream:\n",
    "        fragment = chunk.choices[0].delta.content or \"\"\n",
    "        reply += fragment\n",
    "        yield reply.replace('```python\\n','').replace('```','')"
   ]
  },
  {
   "cell_type": "code",
   "execution_count": null,
   "id": "b11bce1a-e62e-4edf-990a-c1e9baa6d94c",
   "metadata": {},
   "outputs": [],
   "source": [
    "def stream_claude(python_file):\n",
    "    result = claude.messages.stream(\n",
    "        model=CLAUDE_MODEL,\n",
    "        max_tokens=2000,\n",
    "        system=system_message,\n",
    "        messages=[{\"role\": \"user\", \"content\": user_prompt_for(python_file)}],\n",
    "    )\n",
    "    reply = \"\"\n",
    "    with result as stream:\n",
    "        for text in stream.text_stream:\n",
    "            reply += text\n",
    "            yield reply.replace('```python\\n','').replace('```','')"
   ]
  },
  {
   "cell_type": "code",
   "execution_count": null,
   "id": "8dc3d980-a5ba-4be4-b533-4823556d4e15",
   "metadata": {},
   "outputs": [],
   "source": [
    "def unit_test(python_file, model):\n",
    "    if model==\"GPT\":\n",
    "        result = stream_gpt(python_file)\n",
    "    elif model==\"Claude\":\n",
    "        result = stream_claude(python_file)\n",
    "    else:\n",
    "        raise ValueError(\"Unknown model\")\n",
    "    for stream_so_far in result:\n",
    "        yield stream_so_far        "
   ]
  },
  {
   "cell_type": "code",
   "execution_count": null,
   "id": "2064eadb-d809-41af-82bf-3ba38e8b2e5b",
   "metadata": {},
   "outputs": [],
   "source": [
    "def execute_python(code):\n",
    "    try:\n",
    "        output = io.StringIO()\n",
    "        sys.stdout = output\n",
    "        exec(code)\n",
    "    finally:\n",
    "        sys.stdout = sys.__stdout__\n",
    "    return output.getvalue()"
   ]
  },
  {
   "cell_type": "code",
   "execution_count": null,
   "id": "6f9dcd55-3214-47ea-bcd9-3056c8ff5dff",
   "metadata": {},
   "outputs": [],
   "source": [
    "with gr.Blocks() as ui:\n",
    "    gr.Markdown(\"## Unit Test Generator\\nUpload a Python file and get structured unit testing.\")\n",
    "    with gr.Row(): # Row 1\n",
    "        orig_code = gr.File(label=\"Upload your Python file\", file_types=[\".py\"])\n",
    "        test_code = gr.Textbox(label=\"Unit test code:\", lines=10)\n",
    "    with gr.Row(): # Row 2\n",
    "        model = gr.Dropdown([\"GPT\", \"Claude\"], label=\"Select model\", value=\"GPT\")\n",
    "    with gr.Row(): # Row 3\n",
    "        generate = gr.Button(\"Generate unit test code\")\n",
    "    with gr.Row(): # Row 4\n",
    "        unit_run = gr.Button(\"Run Python unit test\")\n",
    "    with gr.Row(): # Row 5\n",
    "        test_out = gr.TextArea(label=\"Unit test result:\", elem_classes=[\"test_code\"])\n",
    "\n",
    "    generate.click(unit_test, inputs=[orig_code, model], outputs=[test_code])\n",
    "    unit_run.click(execute_python, inputs=[test_code], outputs=[test_out])"
   ]
  },
  {
   "cell_type": "code",
   "execution_count": null,
   "id": "8dd20e6a-5cce-47c2-8efc-0db79c407f70",
   "metadata": {},
   "outputs": [],
   "source": [
    "ui.launch(inbrowser=True)"
   ]
  }
 ],
 "metadata": {
  "kernelspec": {
   "display_name": "Python 3 (ipykernel)",
   "language": "python",
   "name": "python3"
  },
  "language_info": {
   "codemirror_mode": {
    "name": "ipython",
    "version": 3
   },
   "file_extension": ".py",
   "mimetype": "text/x-python",
   "name": "python",
   "nbconvert_exporter": "python",
   "pygments_lexer": "ipython3",
   "version": "3.11.13"
  }
 },
 "nbformat": 4,
 "nbformat_minor": 5
}
