{
 "cells": [
  {
   "cell_type": "markdown",
   "id": "cf17c1ab-3608-4926-842c-6e316defd0c7",
   "metadata": {},
   "source": [
    "## Expert Knowledge Worker\n",
    "\n",
    "The following project will demonstrate the use of RAG (Retrieval Augmented Generation) to create a knowledge worker on personal information to boost productivity.\n",
    "The flow is as follows:\n",
    "- Assemble personal files in 1 place (the personal knowledge base)\n",
    "- Vectorize everything in Chroma (the vector datastore)\n",
    "- Build a conversational AI and ask questions!"
   ]
  },
  {
   "cell_type": "code",
   "execution_count": null,
   "id": "9975c199-15fa-4123-899d-97cd6cd6f797",
   "metadata": {},
   "outputs": [],
   "source": [
    "# imports\n",
    "import os\n",
    "import glob\n",
    "from dotenv import load_dotenv\n",
    "import gradio as gr\n",
    "\n",
    "# imports for langchain, plotly and Chroma\n",
    "from langchain.document_loaders import DirectoryLoader, TextLoader, PyPDFLoader\n",
    "from langchain.text_splitter import CharacterTextSplitter\n",
    "from langchain.schema import Document\n",
    "from langchain_openai import OpenAIEmbeddings, ChatOpenAI\n",
    "from langchain_chroma import Chroma\n",
    "from langchain.memory import ConversationBufferMemory\n",
    "from langchain.chains import ConversationalRetrievalChain\n",
    "from langchain.embeddings import HuggingFaceEmbeddings\n",
    "\n",
    "from langchain_community.document_loaders import PyPDFLoader, TextLoader\n",
    "from langchain.docstore.document import Document\n",
    "\n",
    "MODEL = \"gpt-4o-mini\"\n",
    "db_name = \"vector_db\"\n",
    "\n",
    "# Load environment variables in a file called .env\n",
    "load_dotenv(override=True)\n",
    "os.environ['OPENAI_API_KEY'] = os.getenv('OPENAI_API_KEY', 'your-key-if-not-using-env')"
   ]
  },
  {
   "cell_type": "code",
   "execution_count": null,
   "id": "a25afce6-05ee-4bef-8fcd-da6c73047735",
   "metadata": {},
   "outputs": [],
   "source": [
    "# Read in documents using LangChain's loaders\n",
    "\n",
    "# Configuration\n",
    "MAX_FILE_SIZE_MB = 4  # Maximum file size in MB\n",
    "MAX_FILE_SIZE_BYTES = MAX_FILE_SIZE_MB * 1024 * 1024\n",
    "\n",
    "knowledgebase_dir = r\"C:\\Users\\Documents\\Syllabi\\Georgia Tech\\Spring 22\\Microwave Design\\*\"\n",
    "folders = glob.glob(knowledgebase_dir)\n",
    "\n",
    "def add_metadata(doc, doc_type, file_path):\n",
    "    \"\"\"Add metadata including document type and file information\"\"\"\n",
    "    doc.metadata[\"doc_type\"] = doc_type\n",
    "    doc.metadata[\"file_path\"] = file_path\n",
    "    doc.metadata[\"file_name\"] = os.path.basename(file_path)\n",
    "    return doc\n",
    "\n",
    "def check_file_size(file_path, max_size_bytes):\n",
    "    \"\"\"Check if file size is within the limit\"\"\"\n",
    "    try:\n",
    "        file_size = os.path.getsize(file_path)\n",
    "        return file_size <= max_size_bytes, file_size\n",
    "    except OSError:\n",
    "        return False, 0\n",
    "\n",
    "def load_pdfs_with_size_limit(folder_path, doc_type, max_size_bytes):\n",
    "    \"\"\"Load PDF files from a folder with size restrictions\"\"\"\n",
    "    pdf_files = glob.glob(os.path.join(folder_path, \"**/*.pdf\"), recursive=True)\n",
    "    loaded_docs = []\n",
    "    skipped_files = []\n",
    "    \n",
    "    for pdf_file in pdf_files:\n",
    "        is_valid_size, file_size = check_file_size(pdf_file, max_size_bytes)\n",
    "        \n",
    "        if is_valid_size:\n",
    "            try:\n",
    "                # Load individual PDF file\n",
    "                loader = PyPDFLoader(pdf_file)\n",
    "                docs = loader.load()\n",
    "                # Add metadata to each document chunk from the PDF\n",
    "                docs_with_metadata = [add_metadata(doc, doc_type, pdf_file) for doc in docs]\n",
    "                loaded_docs.extend(docs_with_metadata)\n",
    "                print(f\"Loaded: {pdf_file} ({file_size / 1024 / 1024:.2f} MB)\")\n",
    "            except Exception as e:\n",
    "                print(f\"Error loading {pdf_file}: {str(e)}\")\n",
    "                skipped_files.append((pdf_file, f\"Loading error: {str(e)}\"))\n",
    "        else:\n",
    "            file_size_mb = file_size / 1024 / 1024\n",
    "            print(f\"Skipped: {pdf_file} ({file_size_mb:.2f} MB - exceeds {MAX_FILE_SIZE_MB} MB limit)\")\n",
    "            skipped_files.append((pdf_file, f\"File too large: {file_size_mb:.2f} MB\"))\n",
    "    \n",
    "    return loaded_docs, skipped_files\n",
    "\n",
    "# Main processing\n",
    "documents = []\n",
    "all_skipped_files = []\n",
    "\n",
    "print(f\"Processing folders with {MAX_FILE_SIZE_MB} MB file size limit...\")\n",
    "print(\"-\" * 60)\n",
    "\n",
    "for folder in folders:\n",
    "    if os.path.isdir(folder):  # Only process actual directories\n",
    "        doc_type = os.path.basename(folder)\n",
    "        print(f\"\\nProcessing folder: {doc_type}\")\n",
    "        \n",
    "        folder_docs, skipped_files = load_pdfs_with_size_limit(folder, doc_type, MAX_FILE_SIZE_BYTES)\n",
    "        documents.extend(folder_docs)\n",
    "        all_skipped_files.extend(skipped_files)\n",
    "\n",
    "# Text splitting\n",
    "print(f\"\\n\" + \"=\"*60)\n",
    "print(\"TEXT SPLITTING\")\n",
    "print(\"=\"*60)\n",
    "\n",
    "if documents:\n",
    "    text_splitter = CharacterTextSplitter(chunk_size=1000, chunk_overlap=200)\n",
    "    chunks = text_splitter.split_documents(documents)\n",
    "    \n",
    "    # Summary statistics\n",
    "    print(f\"Total PDFs processed successfully: {len(set(doc.metadata['file_path'] for doc in documents))}\")\n",
    "    print(f\"Total document pages/sections: {len(documents)}\")\n",
    "    print(f\"Total text chunks after splitting: {len(chunks)}\")\n",
    "    print(f\"Document types found: {set(doc.metadata['doc_type'] for doc in documents)}\")\n",
    "    \n",
    "    if all_skipped_files:\n",
    "        print(f\"\\nSkipped files: {len(all_skipped_files)}\")\n",
    "        for file_path, reason in all_skipped_files:\n",
    "            print(f\"  - {os.path.basename(file_path)}: {reason}\")\n",
    "else:\n",
    "    print(\"No PDF documents were loaded successfully.\")\n",
    "    if all_skipped_files:\n",
    "        print(\"All files were skipped:\")\n",
    "        for file_path, reason in all_skipped_files:\n",
    "            print(f\"  - {os.path.basename(file_path)}: {reason}\")"
   ]
  },
  {
   "cell_type": "markdown",
   "id": "2a01729b-b741-411f-8f52-e920ac29df22",
   "metadata": {},
   "source": [
    "### We will be mapping each chunk of text into a Vector that represents the meaning of the text, known as an embedding."
   ]
  },
  {
   "cell_type": "code",
   "execution_count": null,
   "id": "fe96692e-c1ec-46f4-a771-bcf4526ef0e7",
   "metadata": {},
   "outputs": [],
   "source": [
    "# Put the chunks of data into a Vector Store that associates a Vector Embedding with each chunk\n",
    "embeddings = OpenAIEmbeddings()\n",
    "\n",
    "# Delete if already exists\n",
    "if os.path.exists(db_name):\n",
    "    Chroma(persist_directory=db_name, embedding_function=embeddings).delete_collection()\n",
    "\n",
    "# Create vectorstore\n",
    "vectorstore = Chroma.from_documents(documents=chunks, embedding=embeddings, persist_directory=db_name)\n",
    "print(f\"Vectorstore created with {vectorstore._collection.count()} documents\")"
   ]
  },
  {
   "cell_type": "code",
   "execution_count": null,
   "id": "a53de782-e415-42cb-8bfb-95267d3c4cfa",
   "metadata": {},
   "outputs": [],
   "source": [
    "# Let's investigate the vectors\n",
    "collection = vectorstore._collection\n",
    "count = collection.count()\n",
    "\n",
    "sample_embedding = collection.get(limit=1, include=[\"embeddings\"])[\"embeddings\"][0]\n",
    "dimensions = len(sample_embedding)\n",
    "print(f\"There are {count:,} vectors with {dimensions:,} dimensions in the vector store\")"
   ]
  },
  {
   "cell_type": "markdown",
   "id": "18a6dece-fd83-4f87-8bed-f27447928eff",
   "metadata": {},
   "source": [
    "### Use LangChain to bring it all together"
   ]
  },
  {
   "cell_type": "code",
   "execution_count": null,
   "id": "32693ccb-6e1e-45f9-868e-376bf5ff202f",
   "metadata": {},
   "outputs": [],
   "source": [
    "# create a new Chat with OpenAI\n",
    "llm = ChatOpenAI(temperature=0.7, model_name=MODEL)\n",
    "\n",
    "# set up the conversation memory for the chat\n",
    "memory = ConversationBufferMemory(memory_key='chat_history', return_messages=True)\n",
    "\n",
    "# the retriever is an abstraction over the VectorStore that will be used during RAG\n",
    "retriever = vectorstore.as_retriever()\n",
    "\n",
    "# putting it together: set up the conversation chain with the GPT 3.5 LLM, the vector store and memory\n",
    "conversation_chain = ConversationalRetrievalChain.from_llm(llm=llm, retriever=retriever, memory=memory)"
   ]
  },
  {
   "cell_type": "markdown",
   "id": "24cb46d1-3a5d-40a5-8e93-b4305caa057b",
   "metadata": {},
   "source": [
    "### Bring this up in Gradio using the Chat interface"
   ]
  },
  {
   "cell_type": "code",
   "execution_count": null,
   "id": "26a7bfcf-d370-45d4-86de-01d7758aa1ae",
   "metadata": {},
   "outputs": [],
   "source": [
    "# Wrapping that in a function\n",
    "\n",
    "def chat(question, history):\n",
    "    result = conversation_chain.invoke({\"question\": question})\n",
    "    return result[\"answer\"]"
   ]
  },
  {
   "cell_type": "code",
   "execution_count": null,
   "id": "0024e4eb-fff1-4978-ba43-83e76c349373",
   "metadata": {},
   "outputs": [],
   "source": [
    "view = gr.ChatInterface(chat, type=\"messages\").launch()"
   ]
  },
  {
   "cell_type": "code",
   "execution_count": null,
   "id": "6ca5d6e8-a329-4e89-bbb8-1e270b9b4f06",
   "metadata": {},
   "outputs": [],
   "source": [
    "# Let's investigate what gets sent behind the scenes\n",
    "from langchain_core.callbacks import StdOutCallbackHandler\n",
    "\n",
    "memory = ConversationBufferMemory(memory_key='chat_history', return_messages=True)\n",
    "\n",
    "retriever = vectorstore.as_retriever()\n",
    "\n",
    "conversation_chain = ConversationalRetrievalChain.from_llm(llm=llm, retriever=retriever, memory=memory, callbacks=[StdOutCallbackHandler()])\n",
    "\n",
    "query = \"Who is the professor for the course ECE 6360 – Microwave Design?\"\n",
    "result = conversation_chain.invoke({\"question\": query})\n",
    "answer = result[\"answer\"]\n",
    "print(\"\\nAnswer:\", answer)"
   ]
  },
  {
   "cell_type": "code",
   "execution_count": null,
   "id": "bbbea526-4531-43f6-9615-a24f1a87d21d",
   "metadata": {},
   "outputs": [],
   "source": [
    "memory = ConversationBufferMemory(memory_key='chat_history', return_messages=True)\n",
    "# k is how many chunks to use\n",
    "retriever = vectorstore.as_retriever(search_kwargs={\"k\": 25})\n",
    "conversation_chain = ConversationalRetrievalChain.from_llm(llm=llm, retriever=retriever, memory=memory)"
   ]
  },
  {
   "cell_type": "code",
   "execution_count": null,
   "id": "c5cd356d-823c-4a6a-b83d-a2611d706ae8",
   "metadata": {},
   "outputs": [],
   "source": [
    "view = gr.ChatInterface(chat, type=\"messages\").launch()"
   ]
  }
 ],
 "metadata": {
  "kernelspec": {
   "display_name": "Python 3 (ipykernel)",
   "language": "python",
   "name": "python3"
  },
  "language_info": {
   "codemirror_mode": {
    "name": "ipython",
    "version": 3
   },
   "file_extension": ".py",
   "mimetype": "text/x-python",
   "name": "python",
   "nbconvert_exporter": "python",
   "pygments_lexer": "ipython3",
   "version": "3.11.13"
  }
 },
 "nbformat": 4,
 "nbformat_minor": 5
}
